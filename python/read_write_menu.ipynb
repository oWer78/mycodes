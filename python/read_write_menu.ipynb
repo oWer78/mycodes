{
 "cells": [
  {
   "cell_type": "code",
   "execution_count": 9,
   "id": "f313aa69",
   "metadata": {},
   "outputs": [
    {
     "name": "stdout",
     "output_type": "stream",
     "text": [
      "\n",
      "\"\tHello Word \t\"\n",
      "MyNameisÖmer\n"
     ]
    }
   ],
   "source": [
    "# Dosya yolunu belirt\n",
    "dosya_yolu = r\"C:\\Users\\ogrenci\\Desktop\\ömer.txt\"\n",
    "\n",
    "# Dosyayı okuma modunda aç\n",
    "with open(dosya_yolu, \"r\", encoding=\"utf-8\") as dosya:\n",
    "    icerik = dosya.read()\n",
    "\n",
    "# İçeriği yazdır\n",
    "print(icerik)\n"
   ]
  },
  {
   "cell_type": "code",
   "execution_count": 8,
   "id": "cea65f9e",
   "metadata": {},
   "outputs": [
    {
     "name": "stdout",
     "output_type": "stream",
     "text": [
      "Yeni veri başarıyla eklendi.\n"
     ]
    }
   ],
   "source": [
    "# Dosya yolunu belirt\n",
    "dosya_yolu = r\"C:\\Users\\ogrenci\\Desktop\\ömer.txt\"\n",
    "\n",
    "# Dosyayı ekleme modunda aç (\"a\" = append)\n",
    "with open(dosya_yolu, \"a\", encoding=\"utf-8\") as dosya:\n",
    "    # Eklenecek metni belirle\n",
    "    yeni_veri = \"\\nMyNameisÖmer\"\n",
    "    # Dosyanın sonuna yaz\n",
    "    dosya.write(yeni_veri)\n",
    "\n",
    "print(\"Yeni veri başarıyla eklendi.\")\n"
   ]
  },
  {
   "cell_type": "code",
   "execution_count": 10,
   "id": "ec3aeb78",
   "metadata": {},
   "outputs": [
    {
     "name": "stdout",
     "output_type": "stream",
     "text": [
      "Lütfen düzenlemek istediğiniz dosyanın tam yolunu girin: \"C:\\Users\\ogrenci\\Desktop\\ömer.txt\"\n",
      "❌ Geçersiz dosya yolu! Lütfen tekrar deneyin.\n",
      "\n",
      "Lütfen düzenlemek istediğiniz dosyanın tam yolunu girin: C:\\Users\\ogrenci\\Desktop\\ömer.txt\n",
      "\n",
      "--- Dosya Düzenleme Menüsü ---\n",
      "1. Dosyaya metin ekle\n",
      "2. Dosyadan belirli bir satırı sil\n",
      "3. Dosya içeriğini göster\n",
      "4. Çıkış\n",
      "Bir seçenek girin (1-4): 1\n",
      "Eklemek istediğiniz metni girin: ı am 15 years old\n",
      "✅ Metin dosyaya eklendi.\n",
      "\n",
      "--- Dosya Düzenleme Menüsü ---\n",
      "1. Dosyaya metin ekle\n",
      "2. Dosyadan belirli bir satırı sil\n",
      "3. Dosya içeriğini göster\n",
      "4. Çıkış\n",
      "Bir seçenek girin (1-4): 3\n",
      "\n",
      "--- Dosya İçeriği ---\n",
      "\n",
      "\"\tHello Word \t\"\n",
      "MyNameisÖmer\n",
      "ı am 15 years old\n",
      "\n",
      "--- Dosya Düzenleme Menüsü ---\n",
      "1. Dosyaya metin ekle\n",
      "2. Dosyadan belirli bir satırı sil\n",
      "3. Dosya içeriğini göster\n",
      "4. Çıkış\n",
      "Bir seçenek girin (1-4): 3\n",
      "\n",
      "--- Dosya İçeriği ---\n",
      "\n",
      "\"\tHello Word \t\"\n",
      "MyNameisÖmer\n",
      "ı am 15 years old\n",
      "\n",
      "--- Dosya Düzenleme Menüsü ---\n",
      "1. Dosyaya metin ekle\n",
      "2. Dosyadan belirli bir satırı sil\n",
      "3. Dosya içeriğini göster\n",
      "4. Çıkış\n",
      "Bir seçenek girin (1-4): 4\n",
      "👋 Uygulamadan çıkılıyor...\n"
     ]
    }
   ],
   "source": [
    "import os\n",
    "\n",
    "def dosya_yolu_al():\n",
    "    yol = input(\"Lütfen düzenlemek istediğiniz dosyanın tam yolunu girin: \")\n",
    "    if not os.path.isfile(yol):\n",
    "        print(\"❌ Geçersiz dosya yolu! Lütfen tekrar deneyin.\\n\")\n",
    "        return dosya_yolu_al()\n",
    "    return yol\n",
    "\n",
    "def menuyu_goster():\n",
    "    print(\"\\n--- Dosya Düzenleme Menüsü ---\")\n",
    "    print(\"1. Dosyaya metin ekle\")\n",
    "    print(\"2. Dosyadan belirli bir satırı sil\")\n",
    "    print(\"3. Dosya içeriğini göster\")\n",
    "    print(\"4. Çıkış\")\n",
    "\n",
    "def dosyaya_ekle(dosya_yolu):\n",
    "    metin = input(\"Eklemek istediğiniz metni girin: \")\n",
    "    with open(dosya_yolu, \"a\", encoding=\"utf-8\") as dosya:\n",
    "        dosya.write(\"\\n\" + metin)\n",
    "    print(\"✅ Metin dosyaya eklendi.\")\n",
    "\n",
    "def dosyadan_satir_sil(dosya_yolu):\n",
    "    with open(dosya_yolu, \"r\", encoding=\"utf-8\") as dosya:\n",
    "        satirlar = dosya.readlines()\n",
    "\n",
    "    print(\"\\n--- Dosya İçeriği ---\")\n",
    "    for i, satir in enumerate(satirlar, 1):\n",
    "        print(f\"{i}: {satir.strip()}\")\n",
    "\n",
    "    try:\n",
    "        silinecek = int(input(\"Silmek istediğiniz satır numarasını girin: \"))\n",
    "        if 1 <= silinecek <= len(satirlar):\n",
    "            del satirlar[silinecek - 1]\n",
    "            with open(dosya_yolu, \"w\", encoding=\"utf-8\") as dosya:\n",
    "                dosya.writelines(satirlar)\n",
    "            print(\"✅ Satır silindi.\")\n",
    "        else:\n",
    "            print(\"❌ Geçersiz satır numarası.\")\n",
    "    except ValueError:\n",
    "        print(\"❌ Sayı girmelisiniz!\")\n",
    "\n",
    "def dosya_icerigini_goster(dosya_yolu):\n",
    "    print(\"\\n--- Dosya İçeriği ---\")\n",
    "    with open(dosya_yolu, \"r\", encoding=\"utf-8\") as dosya:\n",
    "        print(dosya.read())\n",
    "\n",
    "def uygulama():\n",
    "    dosya_yolu = dosya_yolu_al()\n",
    "\n",
    "    while True:\n",
    "        menuyu_goster()\n",
    "        secim = input(\"Bir seçenek girin (1-4): \")\n",
    "\n",
    "        if secim == \"1\":\n",
    "            dosyaya_ekle(dosya_yolu)\n",
    "        elif secim == \"2\":\n",
    "            dosyadan_satir_sil(dosya_yolu)\n",
    "        elif secim == \"3\":\n",
    "            dosya_icerigini_goster(dosya_yolu)\n",
    "        elif secim == \"4\":\n",
    "            print(\"👋 Uygulamadan çıkılıyor...\")\n",
    "            break\n",
    "        else:\n",
    "            print(\"❌ Geçersiz seçim. Lütfen 1-4 arasında bir sayı girin.\")\n",
    "\n",
    "# Uygulamayı başlat\n",
    "if __name__ == \"__main__\":\n",
    "    uygulama()\n"
   ]
  },
  {
   "cell_type": "code",
   "execution_count": null,
   "id": "ac0a3505",
   "metadata": {},
   "outputs": [],
   "source": []
  }
 ],
 "metadata": {
  "kernelspec": {
   "display_name": "Python 3 (ipykernel)",
   "language": "python",
   "name": "python3"
  },
  "language_info": {
   "codemirror_mode": {
    "name": "ipython",
    "version": 3
   },
   "file_extension": ".py",
   "mimetype": "text/x-python",
   "name": "python",
   "nbconvert_exporter": "python",
   "pygments_lexer": "ipython3",
   "version": "3.9.12"
  }
 },
 "nbformat": 4,
 "nbformat_minor": 5
}
